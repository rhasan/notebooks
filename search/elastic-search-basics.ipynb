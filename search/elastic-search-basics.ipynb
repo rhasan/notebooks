{
 "cells": [
  {
   "cell_type": "code",
   "execution_count": 1,
   "metadata": {},
   "outputs": [],
   "source": [
    "import urllib.request\n",
    "#if the arg is empty in ProxyHandler, urllib will find itself your proxy config.\n",
    "proxy_support = urllib.request.ProxyHandler({})\n",
    "opener = urllib.request.build_opener(proxy_support)\n",
    "urllib.request.install_opener(opener)\n",
    "\n"
   ]
  },
  {
   "cell_type": "code",
   "execution_count": 2,
   "metadata": {},
   "outputs": [],
   "source": [
    "# import requests\n",
    "# # make sure ES is up and running\n",
    "# # for some reason, the root level endpoint of 9200 port is blocked. it's not a problem to access _search and other api endpoint though\n",
    "# res = requests.get('http://localhost:9200')\n",
    "# print(res.content)"
   ]
  },
  {
   "cell_type": "code",
   "execution_count": 3,
   "metadata": {},
   "outputs": [],
   "source": [
    "#connect to our cluster\n",
    "from elasticsearch import Elasticsearch\n",
    "es = Elasticsearch([{'host': 'localhost', 'port': 9200}])"
   ]
  },
  {
   "cell_type": "code",
   "execution_count": 4,
   "metadata": {},
   "outputs": [
    {
     "data": {
      "text/plain": [
       "{'_index': 'test-index',\n",
       " '_type': 'test',\n",
       " '_id': '1',\n",
       " '_version': 3,\n",
       " 'result': 'created',\n",
       " '_shards': {'total': 2, 'successful': 1, 'failed': 0},\n",
       " '_seq_no': 4,\n",
       " '_primary_term': 1}"
      ]
     },
     "execution_count": 4,
     "metadata": {},
     "output_type": "execute_result"
    }
   ],
   "source": [
    "#index some test data\n",
    "es.index(index='test-index', doc_type='test', id=1, body={'test': 'test'})"
   ]
  },
  {
   "cell_type": "code",
   "execution_count": 5,
   "metadata": {},
   "outputs": [
    {
     "data": {
      "text/plain": [
       "{'_index': 'test-index',\n",
       " '_type': 'test',\n",
       " '_id': '1',\n",
       " '_version': 4,\n",
       " 'result': 'deleted',\n",
       " '_shards': {'total': 2, 'successful': 1, 'failed': 0},\n",
       " '_seq_no': 5,\n",
       " '_primary_term': 1}"
      ]
     },
     "execution_count": 5,
     "metadata": {},
     "output_type": "execute_result"
    }
   ],
   "source": [
    "#delete test data and try with something more interesting\n",
    "es.delete(index='test-index', doc_type='test', id=1)"
   ]
  },
  {
   "cell_type": "code",
   "execution_count": 6,
   "metadata": {},
   "outputs": [
    {
     "data": {
      "text/plain": [
       "{'_index': 'sw',\n",
       " '_type': 'people',\n",
       " '_id': '1',\n",
       " '_version': 5,\n",
       " 'result': 'updated',\n",
       " '_shards': {'total': 2, 'successful': 1, 'failed': 0},\n",
       " '_seq_no': 108,\n",
       " '_primary_term': 1}"
      ]
     },
     "execution_count": 6,
     "metadata": {},
     "output_type": "execute_result"
    }
   ],
   "source": [
    "es.index(index='sw', doc_type='people', id=1, body={\n",
    "    \"name\": \"Luke Skywalker\",\n",
    "    \"height\": \"172\",\n",
    "    \"mass\": \"77\",\n",
    "    \"hair_color\": \"blond\",\n",
    "    \"birth_year\": \"19BBY\",\n",
    "    \"gender\": \"male\",\n",
    "})"
   ]
  },
  {
   "cell_type": "code",
   "execution_count": 7,
   "metadata": {},
   "outputs": [
    {
     "name": "stdout",
     "output_type": "stream",
     "text": [
      "18\n"
     ]
    }
   ],
   "source": [
    "#let's iterate over swapi people documents and index them\n",
    "import requests\n",
    "import json\n",
    "# r = requests.get('http://localhost:9200') \n",
    "status_code = 200\n",
    "#print(r)\n",
    "i = 1\n",
    "while status_code == 200:\n",
    "    r = requests.get('http://swapi.co/api/people/'+ str(i))\n",
    "    status_code = r.status_code\n",
    "    # print(status_code)\n",
    "    es.index(index='sw', doc_type='people', id=i, body=json.loads(r.content))\n",
    "    i=i+1\n",
    "    \n",
    "print(i)"
   ]
  },
  {
   "cell_type": "code",
   "execution_count": null,
   "metadata": {},
   "outputs": [],
   "source": [
    "#let's iterate over swapi people documents and index them\n",
    "import json\n",
    "# r = requests.get('http://localhost:9200') \n",
    "status_code = 200\n",
    "#print(r)\n",
    "i = 18\n",
    "while status_code == 200:\n",
    "    r = requests.get('http://swapi.co/api/people/'+ str(i))\n",
    "    status_code = r.status_code\n",
    "    # print(status_code)\n",
    "    es.index(index='sw', doc_type='people', id=i, body=json.loads(r.content))\n",
    "    i=i+1\n",
    "    \n",
    "print(i)"
   ]
  },
  {
   "cell_type": "code",
   "execution_count": null,
   "metadata": {},
   "outputs": [],
   "source": [
    "es.get(index='sw', doc_type='people', id=65)"
   ]
  },
  {
   "cell_type": "code",
   "execution_count": null,
   "metadata": {},
   "outputs": [],
   "source": [
    "#let's find darth vader\n",
    "es.search(index=\"sw\", body={\"query\": {\"match\" : { \"name\" : \"Darth Vader\" }}})"
   ]
  },
  {
   "cell_type": "code",
   "execution_count": null,
   "metadata": {},
   "outputs": [],
   "source": [
    "#let's see if we find anyone with a name or surname starting with lu\n",
    "es.search(index=\"sw\", body={\"query\": {\"prefix\" : { \"name\" : \"lu\" }}})"
   ]
  },
  {
   "cell_type": "code",
   "execution_count": null,
   "metadata": {},
   "outputs": [],
   "source": [
    "#let's try a fuzzy query\n",
    "q = es.search(index=\"sw\", body={\n",
    "    \"query\": {\n",
    "       \"fuzzy\" : { \"name\" : {\n",
    "                \"value\": \"Vaded\",\n",
    "                \"boost\": 1.0,\n",
    "                \"fuzziness\": 2,\n",
    "                \"prefix_length\": 0,\n",
    "                \"max_expansions\": 20\n",
    "                } \n",
    "           }\n",
    "        }\n",
    "    }\n",
    ")"
   ]
  },
  {
   "cell_type": "code",
   "execution_count": null,
   "metadata": {},
   "outputs": [],
   "source": [
    "q"
   ]
  },
  {
   "cell_type": "code",
   "execution_count": null,
   "metadata": {},
   "outputs": [],
   "source": []
  }
 ],
 "metadata": {
  "kernelspec": {
   "display_name": "Python 3",
   "language": "python",
   "name": "python3"
  },
  "language_info": {
   "codemirror_mode": {
    "name": "ipython",
    "version": 3
   },
   "file_extension": ".py",
   "mimetype": "text/x-python",
   "name": "python",
   "nbconvert_exporter": "python",
   "pygments_lexer": "ipython3",
   "version": "3.6.8"
  }
 },
 "nbformat": 4,
 "nbformat_minor": 2
}
