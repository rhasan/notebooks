{
 "cells": [
  {
   "cell_type": "code",
   "execution_count": 7,
   "metadata": {},
   "outputs": [],
   "source": [
    "import urllib.request\n",
    "#if the arg is empty in ProxyHandler, urllib will find itself your proxy config.\n",
    "proxy_support = urllib.request.ProxyHandler({})\n",
    "opener = urllib.request.build_opener(proxy_support)\n",
    "urllib.request.install_opener(opener)\n",
    "\n"
   ]
  },
  {
   "cell_type": "code",
   "execution_count": 8,
   "metadata": {},
   "outputs": [
    {
     "name": "stdout",
     "output_type": "stream",
     "text": [
      "b'<!--# Id: internetaccess.html 115044 2016-03-18 17:59:46Z szhang -->\\n<!DOCTYPE HTML PUBLIC \"-//W3C//DTD HTML 4.01 Transitional//EN\" \"http://www.w3c.org/TR/1999/REC-html401-19991224/loose.dtd\">\\n<html>\\n<head>\\n<meta name=\"description\" content=\"Zscaler makes the internet safe for businesses by protecting their employees from malware, viruses, and other security threats.\">\\n<meta http-equiv=\"Content-Type\" content=\"text/html; charset=utf-8\">\\n<meta name=\"viewport\" content=\"width=device-width, initial-scale=1\">\\n<title>Internet Security by Zscaler</title>\\n<script language=\"JavaScript\">var defLang = \\'en_US\\'</script>\\n<!--<img alt=\"Zscaler\" src=\"https://login.zscloud.net/img_logo_new1.png\">-->\\n<style type=\"text/css\">\\nbody {\\nbackground-color:#e3e3e3;\\nfont-family:Arial, sans-serif;\\nfont-size:12px;\\ncolor:#4B4F54;\\n}\\na {\\ncursor:pointer;\\ntext-decoration:none;\\ncolor:#009dd0;\\n}\\ntable {\\nmargin-top:10px;\\n}\\ntd table {\\nmargin-top:0;\\ntext-align:center;\\n}\\nimg {\\nmax-height:75px;\\nmax-width:430px;\\n}\\n.pg {\\nposition:absolute;\\ntop:0;\\nbottom:0;\\nleft:0;\\nright:0;\\noverflow-x:hidden;\\nwhite-space:nowrap;\\n}\\n.pg:before {\\ncontent:\"\";\\ndisplay:inline-block;\\nheight:100%;\\nvertical-align:middle;\\n}\\n.pg_cont {\\ndisplay:inline-block;\\nvertical-align:middle;\\nwidth:100%;\\nposition:relative;\\n}\\n.a_i {\\nwidth:19px;\\nheight:19px;\\nmargin-right:10px;\\nbackground-size: 19px 19px;\\ndisplay:inline-block;\\n}\\n.m_tbl {\\nwidth:100%;\\nmax-width:758px;\\nbackground:#e3e3e3;\\nmin-width:600px;\\n}\\n.pg.red .eu_h {\\ncolor:#fd4239;\\nborder-top:3px solid #fd4239;\\n}\\n.pg.red .eu_h .a_i {\\nbackground-image: url(\\'data:image/png;base64,iVBORw0KGgoAAAANSUhEUgAAABMAAAATCAYAAAByUDbMAAABoElEQVR4nK3Uz2vIYRzA8dcMzWGJdjSZKZLCDphfB7XVHBAXF2XFpJxd+BvUbtY20m4KxVExtbWkUYQLByU3OVhpy8zh+Tzr2dN3t30un1/P834+z/N8noc1lBZYPNVbx3twDQPYFuN+4RUm8ARL5YTWFzPWVZA2jGIWQ+jMC2ILzuERZrCjrmB9YW/CcxwLfwFTAf6J3TiPzTiMNziJz02wkQL0DpfwsVp8OCAb0IFnOIA5LG/zeEwWgN4GUBeeBihLN25mJ8NuhF7CIOYbQJPYHv59fAv7OlpL2OnQH2IbpexsAF3BePgdOFTC2kO/bQC9LED3AvTPymPoYuUFkHqprqizAF0NECwWY9vKynJi1yqg8QoEBwv7ewmbCt2HIw2goQrUgv6wF6QmXoY9KMqdLkBjDSDSueU3+Bi/S9gE3oedY2PS+6xBF3En7Hnczol8AX9xAa+xNWJHpXOajXwPzuBsAR7E1xoGX3BC6vJu7MVdzfIHl/GwDNa/xifsxy1xQ5XMSS2ypwax+n+Wc/ukr2YjfkhNXT81pP9sTeU/6YpejkX0NUMAAAAASUVORK5CYII=\\');\\n}\\n.pg.red .eu_h, .pg.red .eu_co, .pg.red .hr {\\nborder-left:3px solid #fd4239;\\nborder-right:3px solid #fd4239;\\n}\\n.pg.red .fo {\\nborder-bottom-color:#fd4239;\\n}\\n.pg.red .eu_co.st{\\nborder:0;\\n}\\n.pg.yl .eu_h .a_i {\\nbackground-image: url(\\'data:image/png;base64,iVBORw0KGgoAAAANSUhEUgAAAGQAAABkCAYAAABw4pVUAAAFgUlEQVR4nO2dOWxcVRSGP0+wWWKSiC1WMAV7SAI0bBLBLBI0bEUSyiSAFCOgYLMpEBA3JCEUCISQEBIIKtIgpaCho6KhAglkCQlRRBAhKBIQW4Di5iHH+M28c+85955h7leO5y6eb972v/PuQKVSqQwNY5+8V3oKYi4C3gXuaPn7x8Bu4Eim+agxsxN6pSch5GrgM9plANx58j0bs8xImWESsho4BJzf4b1TwAfAGaYzMmCYhDyH7Ft/DTBvNBczhkXINPBkRLs54ALluZgyLEIWiNv9TAIvKM/FlGEQsoVw1hTLLHCFzlTsGQYh+0mb52nAS0pzMce7kNuBuxX62QbcpNCPOZ6F9ICXFfs7CIwp9meCZyE7gOsU+9sK3KfYnwlehUxgs9/fTzimuMWrkEeASwz63Qg8ZNCvGh6FrMX22mGBEMO4xKOQZ4FzDfufAp4y7D8Jb0KmgScyjDOP00jFm5AF4MwM47iNVDwJSY1IpLiMVDwJSY1IpLiMVLwIuQ2diESKu0jFgxDtiESKq0jFg5AdwPUFx3cVqZQWYhWRSHETqZQWYhWRSHETqZQUshZ4vuD4y3ERqZQUMg+cV3D85biIVEoJuZC4KhJrikcqpQ5kMRHJMeCosM16QkzSlSZSeVw4jholhGwGHhS2eR14Bvhd2O504BVkH/As8BqwKBxLhRK7LGlEcoI4GQC/AU8DfwvaFI1Ucgu5Fbgnol2MjIYTyK/Ei0UqOYWMEWIKKauA8YRxY+P8IpFKTiEpEclZCePGXltsBe5NGDeKXEJSI5KUm1YpMg+Q+cQnl5BZ4NKE9ikfakrb7JFKDiFrSL9dWkoIZI5UcgjRiEhK7bIgc6RiLWQDOv9MyS0EMkYq1kK0qkhKbiGQsUrFUshm9A6IJU57l5OlSsVSiGYVSektBDJFKlZCYiOSNkofQxrMIxULIWPoV5F4EQLGkYqFkO3ADcp9ethlNZhGKtpCJoB9yn2Cry0EDCMVbSGpEUkbKVuIxVW2WaSiKUQjImnD2xYCRpGKphDLKhJPx5AGk0hFS4hWRNKGxy0EDCIVLSHWD9p4FaIeqWgI2YT9PQOPu6yGWeByrc40hOR40MbrFgLKkUrqBzlDnvvO3k57l7MdpUglRUhsFUkMnreQBpVIJUWIRUTShudjSINKpBIrJPeDNlPEXeNcSZ7HrBuSI5XYxnuAy1IGFjIBfEVYk/f7jm2mgbvMZrQyTaTyVmwHMQsprwG+xtezHZ74jvBl/VnaMHYh5TmqjH4kRSpSIRsI1eSV/kRHKlIhe8l7kBxWoiMViZBNwMMxg4woUZGKRMg+4ftHnahIpetp7wzlVzv4CTgMHO/4/kngfmCd1YQ60EQqn3Zt0EWIRRWJlL+Am4Evhe22AJ/rT0fEQcIXutNjdV12QduAG1NmpMA3yGUAfAF8qzsVMaJIZZCQcWyqSKT8UaitFp0jlUFCckck/1c6V6n0E3I28KLKdCrQsUqln5A5uv28UKUbnSKVNiE1IrFhYKTSJmQv+W7sjBIDI5WVhFxFjUgs6RuprCQk93Kto0bfSGX5B38L5SOSUaC1SmWpkJxVJJWWKpWlQjxEJG2sJ24BmomTbT2yYqTSXM6P42O51jbWEQoHXqX7verVhHW2JCvK5eYA8BHwZ/NCI2QPivWpRuwm72L9OfhPlUqPGpGU5pRIpUeNSEpzSqTSo0YkHvj36bMeNSLxwCSwE+oVuScegCrEExdDFeKJVVCFeGIRqhBPHIYgRFw2X1HnGPA2BCEufllmxNkF/ABByCGClF9LzmhE+YVw/fFh80JzDHkHuBZ4k1BDW7HlR+ANwmf+/tI/LK2mWwQeBR4DzqHmW1YcJXzpJT+hUalUKpXKQP4B3AaeT/TFo6kAAAAASUVORK5CYII=\\');\\n}\\n.pg.yl .eu_h {\\ncolor:#c2a200;\\nborder-top:3px solid #c2a200;\\n}\\n.pg.yl .eu_h, .pg.yl .eu_co, .pg.yl .hr {\\nborder-left:3px solid #c2a200;\\nborder-right:3px solid #c2a200;\\n}\\n.pg.yl .fo {\\nborder-bottom-color:#c2a200;\\n}\\n.pg.yl .eu_co.st{\\nborder:0;\\n}\\n.pg.or .eu_h {\\ncolor:#e39e00;\\nborder-top:3px solid #e39e00;\\n}\\n.pg.or .eu_h .a_i {\\nbackground-image: url(\\'data:image/png;base64,iVBORw0KGgoAAAANSUhEUgAAABMAAAASCAYAAAC5DOVpAAAAGXRFWHRTb2Z0d2FyZQBBZG9iZSBJbWFnZVJlYWR5ccllPAAAAyhpVFh0WE1MOmNvbS5hZG9iZS54bXAAAAAAADw/eHBhY2tldCBiZWdpbj0i77u/IiBpZD0iVzVNME1wQ2VoaUh6cmVTek5UY3prYzlkIj8+IDx4OnhtcG1ldGEgeG1sbnM6eD0iYWRvYmU6bnM6bWV0YS8iIHg6eG1wdGs9IkFkb2JlIFhNUCBDb3JlIDUuNi1jMTExIDc5LjE1ODMyNSwgMjAxNS8wOS8xMC0wMToxMDoyMCAgICAgICAgIj4gPHJkZjpSREYgeG1sbnM6cmRmPSJodHRwOi8vd3d3LnczLm9yZy8xOTk5LzAyLzIyLXJkZi1zeW50YXgtbnMjIj4gPHJkZjpEZXNjcmlwdGlvbiByZGY6YWJvdXQ9IiIgeG1sbnM6eG1wPSJodHRwOi8vbnMuYWRvYmUuY29tL3hhcC8xLjAvIiB4bWxuczp4bXBNTT0iaHR0cDovL25zLmFkb2JlLmNvbS94YXAvMS4wL21tLyIgeG1sbnM6c3RSZWY9Imh0dHA6Ly9ucy5hZG9iZS5jb20veGFwLzEuMC9zVHlwZS9SZXNvdXJjZVJlZiMiIHhtcDpDcmVhdG9yVG9vbD0iQWRvYmUgUGhvdG9zaG9wIENDIDIwMTUgKE1hY2ludG9zaCkiIHhtcE1NOkluc3RhbmNlSUQ9InhtcC5paWQ6QjIzMTRDODNCQ0ExMTFFNUFBNTY5RTA4NDFEMEU0QTAiIHhtcE1NOkRvY3VtZW50SUQ9InhtcC5kaWQ6QjIzMTRDODRCQ0ExMTFFNUFBNTY5RTA4NDFEMEU0QTAiPiA8eG1wTU06RGVyaXZlZEZyb20gc3RSZWY6aW5zdGFuY2VJRD0ieG1wLmlpZDpCMjMxNEM4MUJDQTExMUU1QUE1NjlFMDg0MUQwRTRBMCIgc3RSZWY6ZG9jdW1lbnRJRD0ieG1wLmRpZDpCMjMxNEM4MkJDQTExMUU1QUE1NjlFMDg0MUQwRTRBMCIvPiA8L3JkZjpEZXNjcmlwdGlvbj4gPC9yZGY6UkRGPiA8L3g6eG1wbWV0YT4gPD94cGFja2V0IGVuZD0iciI/Poc8rmgAAAI2SURBVHjadJRdSFVBEMfvvRiGeP1IfdIKM3qQ/KQUtISCIBX8LEMFwcIPEBSEqPBREXwRQbIQS30wDUvDJEQQKkKI1C6hSQiBXB8Cw5CelPT2G5iF43Jc+DFzZmb/e87u7PGGQiGP29ga9nZgzsDbpPrQLM8X8OvgHHQR+27P8bqJMXFE3UYm7Vu5Ckw/lJBbduZ8LkJtmNtwzxaSQWwKI0zaOZ8lJM898I5JB57jxxNIpr7MGQyzis5DOOyoeAamCYrhBzyGGTAL3YQ3x4mZDcxF6CL2C5yAn1AAN6BeF/Q4RF33rEqtvNF9KIRYPjkFTuLnQDR0al0Wi54+cpoEIvHnIN9lb3phV2o1PwSnrLpKORgjJp9zCZZAjltWK3IUV2iPmQ3fhDHdpmaIkm3wIdSuQtdQv4z9oEcv/hq8JD6tn/YHGuAW/Cb+AHsWFqTOG3zu+YTTR+KVnuCqFPDsx/fjXwGJJWifrRCXE34K2Tx/1XkBOYANI6TjGUSSTCf+F9+vbzgoQlrTqu3zzTFvUsS2rc0cgF/yuQjGYwMquKFv0I1JhXarsbdFLEBBmOO67GGuQwy8hjTTRtTVYh/J3aRu1HqJoIhNkPhn3b917bUWuKvhYrV55Ftdrth70xrl0tUUTVh3tUZbwIxFavKtmmRMqfSfEZPjfQgR8BkOQYSu6pwXcsUgRXM92mtxkAnTLDJ+5H+G6B2M7Eu23tN5GKXwI7kY7bFqSJRy+bvoKQdl/n8BBgA1+diozP47HQAAAABJRU5ErkJggg==\\');\\n}\\n.pg.or .eu_h, .pg.or .eu_co, .pg.or .hr {\\nborder-left:3px solid #e39e00;\\nborder-right:3px solid #e39e00;\\n}\\n.pg.or .fo {\\nborder-bottom-color:#e39e00;\\n}\\n.pg.or .eu_co.st{\\nborder:0;\\n}\\n.m_tbl table td {\\npadding:0 20px 16px 20px;\\ntext-align:left;\\nbackground-color:white;\\n}\\n.m_tbl table td.bh {\\ntext-align:center;\\nbackground-color:#e3e3e3;\\nz-index:100;\\n}\\n.m_tbl table td.eu_h {\\npadding-top: 20px;\\n}\\n.eu_h {\\nvertical-align:middle;\\nfont-weight:normal;\\nwhite-space:normal;\\nfont-size: 24px;\\nbackground-color:white;\\nborder-left:3px solid;\\nborder-right:3px solid;\\nborder-top-left-radius: 10px;\\nborder-top-right-radius: 10px;\\n}\\n.pg .eu_h.sm {\\nfont-size:16px;\\ncolor:#929496;\\nborder-top-left-radius:0;\\nborder-top-right-radius:0;\\nborder-top:0;\\npadding-top:0;\\n}\\nhr {\\nmargin:0;\\nborder-top:0.5px solid #cfd0d1;\\n}\\n.eu_co {\\nfont-size:16px;\\ncolor:#2a2c30;\\nborder-left:3px solid;\\nborder-right:3px solid;\\nwhite-space: normal;\\nword-wrap: break-word;\\n}\\n.eu_co.rsn{\\ncolor:#000000;\\n}\\n.eu_l {\\ndisplay:inline;\\npadding-left:5px;\\n}\\n.bh {\\nmin-height:35px;\\ndisplay:block;\\nmax-height:75px;\\ncolor:#0076A9;\\nfont-size:32px;\\noverflow:hidden;\\npadding-bottom:15px;\\npadding-top:5px;\\nbackground-color:#e3e3e3;\\ntext-align:center;\\nmax-width:758px;\\ntext-overflow: ellipsis;\\n}\\n.btn {\\nbackground:#009dd0;\\ncolor:#FFFFFF;\\nborder-radius:5px;\\nborder:2px solid #009dd0;\\ncursor:pointer;\\ndisplay:inline-block;\\nheight:30px;\\nmargin:10px 0 15px;\\nfont-size:18px;\\nline-height:26px;\\nwidth:auto;\\npadding:0 20px;\\n}\\n.btn:focus {\\noutline:none;\\n}\\n.btn:hover {\\nbackground:#fff;\\ncolor:#0076A9;\\n}\\n.eu_co.fo {\\nheight:32px;\\ncolor:#696A6D;\\nbackground-color:#f3f3f3;\\nline-height:32px;\\nfont-size:11px;\\npadding-bottom:0px;\\nborder-bottom:3px solid;\\nborder-bottom-left-radius:10px;\\nborder-bottom-right-radius:10px;\\n}\\n.eu_co.fo.pb35 {\\nbackground-color: white;\\ncolor: #2a2c30;\\nfont-size: 16px;\\npadding-bottom: 20px;\\n}\\n.eu_co.st {\\nfont-size: 12px;\\npadding: 10px 0;\\nline-height: 20px;\\nposition: relative;\\ncolor: #939393;\\nbackground:#e3e3e3;\\nborder:0;\\ntext-align: center;\\n}\\n.s_img {\\nvertical-align:top;\\npadding-right:5px;\\nbackground:url(\"data:image/png;base64,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\") no-repeat;\\nwidth:55px;\\nheight:17px;\\nposition:relative;\\ntop:3px;\\ndisplay:inline-block;\\n}\\n.f_btn {\\ndisplay:inline-block;\\n}\\n.uq_cd {\\nposition:absolute;\\nbottom:54px;\\nright:25px;\\nfont-size:10px;\\ncolor:#696A6D;\\n}\\n.s_l td {\\nfont-size: 13px;\\ncolor: #77797c;\\ntext-align:right;\\n}\\n.s_l a {\\npadding:4px;\\ncursor:pointer;\\nfont-size:13px;\\n}\\n.s_l .sprt {\\nmargin-left: 6px;\\nmargin-right: 4px;\\npadding-right: 0;\\ncursor: default;\\nheight: 14px;\\nborder-left: 1px #cfd0d1 solid;\\n}\\n.langSelector{\\nwidth:200px;\\n}\\n.langSelector td{\\ntext-align:right;\\n}\\n.logo_container{\\nposition:relative;\\nmax-width:758px;\\nmargin:0px auto;\\n}\\n.err_cd {\\nfont-size:16px;\\ncolor:#2a2c30;\\ntext-align: left;\\nbackground-color:white;\\npadding-bottom:16px;\\n}\\n@media only screen and (max-width:700px) {\\ntd.bh{\\npadding-bottom:35px;\\n}\\n.eu_h{\\nfont-size:18px;\\n}\\n.eu_h,.eu_co,.st{\\nword-wrap:break-word;\\nwhite-space:normal;\\n}\\n.sm{\\nfont-size:14px;\\n}\\n.fo{\\npadding:2px 0;\\nheight:20px;\\nline-height:20px;\\n}\\n.m_tbl {\\nmin-width: 300px;\\nwidth: 95%;\\nposition:relative;\\nleft:-3px;\\n}\\n.uq_cd {\\nbottom: 77px;\\n}\\n.a_i {\\nposition: relative;\\ntop: 4px;\\n}\\n.s_l {\\nposition: absolute;\\ntop:85px;\\nwidth:100%;\\nz-index:100;\\n}\\n.s_l a {\\npadding: 0;\\n}\\n.m_tbl table .s_l td {\\ntext-align: center;\\n}\\n.pg{\\noverflow-y:auto;\\n}\\n.langSelector{\\nwidth:100%;\\n}\\n.langSelector td{\\ntext-align:center;\\n}\\n}\\n</style>\\n\\n</head>\\n<body>\\n<!--[if lte IE 7]>\\n<style type=\"text/css\">\\n.a_i {\\ndisplay: none;\\nmargin-right: 0;\\nwidth: 0;\\n}\\n.m_tbl {\\nwidth: 100%;\\n}\\n.pg {\\ntext-align: center;\\nwidth:100%;\\n}\\n.pg_cont {\\nwidth: 600px;\\n}\\n.m_tbl table td.eu_co.st {\\nbackground-color: #e3e3e3;\\n}\\n.logo_container{\\nwidth:600px;\\n}\\n</style>\\n<![endif]-->\\n<div class=\"pg red\">\\n<div class=\"pg_cont\">\\n<div id=\"logo_container\" class=\"logo_container\">\\n<table id=\"logo\" width=\"50%\" cellspacing=\"0\" cellpadding=\"0\" border=\"0\" align=\"center\">\\n<tbody>\\n<tr align=\"center\">\\n<td align=\"center\" class=\"bh\">\\n<img src=\"https://login.zscloud.net:443/__zsig/VWF7nqtMVc2Rr\" /></td></tr>\\n</tbody></table></div>\\n<table class=\"m_tbl\" cellpadding=\"0\" cellspacing=\"0\" align=\"center\">\\n<tbody><tr>\\n<td height=\"100\" valign=\"top\" style=\"position:relative;\">\\n<div class=\"uq_cd\">D22</div>\\n<!--locale en_US-->\\n<table id=\"en_US\" width=\"100%\" border=\"0\" cellspacing=\"0\" cellpadding=\"0\">\\n<tbody><tr><td class=\"eu_h\">\\n<i class=\"a_i\"></i>\\nSorry, you don\\'t have permission to visit this site.\\n</td></tr>\\n<tr><td class=\"hr\"><hr></td></tr>\\n<tr><td class=\"eu_co\">\\n<b>Website blocked, please contact your local helpdesk <br>Internetseite gesperrt, wenden Sie sich bitte an ihren Helpdesk</b>\\n</td></tr>\\n<tr><td class=\"eu_co rsn\">\\nDenied\\n</td></tr>\\n<tr><td class=\"eu_co\">\\nYou tried to visit:<div class=\"eu_l\"><a href=\"http://localhost:9200/\">http://localhost:9200/</a></div>\\n</td></tr><tr>\\n<td class=\"hr\"><hr></td>\\n</tr>\\n<tr><td class=\"eu_co ln\">\\n<a href=\"https://wiki.siemens.com/display/en/Security+Regulations+-+Cloud+Optimized+Internet+Access\">\\nSee our internet use policy.\\n</a>\\n</td></tr>\\n<tr><td class=\"eu_co fo\">\\n</td></tr>\\n<tr><td class=\"eu_co st\">\\n<span class=\"s_img\"></span>\\nYour organization has selected Zscaler to protect you from internet threats.\\n</td></tr>\\n</tbody></table>\\n<!--/locale en_US-->\\n</td></tr>\\n</tbody></table>\\n</div>\\n</div>\\n</body></html>\\n<!-- 0 0 1 0 1562672130 32 http://localhost:9200/ -->'\n"
     ]
    }
   ],
   "source": [
    "import requests\n",
    "# make sure ES is up and running\n",
    "# for some reason, the root level endpoint of 9200 port is blocked. it's not a problem to access _search and other api endpoint though\n",
    "res = requests.get('http://localhost:9200')\n",
    "print(res.content)"
   ]
  },
  {
   "cell_type": "code",
   "execution_count": 9,
   "metadata": {},
   "outputs": [],
   "source": [
    "#connect to our cluster\n",
    "from elasticsearch import Elasticsearch\n",
    "es = Elasticsearch([{'host': 'localhost', 'port': 9200}])"
   ]
  },
  {
   "cell_type": "code",
   "execution_count": 10,
   "metadata": {},
   "outputs": [
    {
     "data": {
      "text/plain": [
       "{'_index': 'test-index',\n",
       " '_type': 'test',\n",
       " '_id': '1',\n",
       " '_version': 1,\n",
       " 'result': 'created',\n",
       " '_shards': {'total': 2, 'successful': 1, 'failed': 0},\n",
       " '_seq_no': 0,\n",
       " '_primary_term': 1}"
      ]
     },
     "execution_count": 10,
     "metadata": {},
     "output_type": "execute_result"
    }
   ],
   "source": [
    "#index some test data\n",
    "es.index(index='test-index', doc_type='test', id=1, body={'test': 'test'})"
   ]
  },
  {
   "cell_type": "code",
   "execution_count": 11,
   "metadata": {},
   "outputs": [
    {
     "data": {
      "text/plain": [
       "{'_index': 'test-index',\n",
       " '_type': 'test',\n",
       " '_id': '1',\n",
       " '_version': 2,\n",
       " 'result': 'deleted',\n",
       " '_shards': {'total': 2, 'successful': 1, 'failed': 0},\n",
       " '_seq_no': 1,\n",
       " '_primary_term': 1}"
      ]
     },
     "execution_count": 11,
     "metadata": {},
     "output_type": "execute_result"
    }
   ],
   "source": [
    "#delete test data and try with something more interesting\n",
    "es.delete(index='test-index', doc_type='test', id=1)"
   ]
  },
  {
   "cell_type": "code",
   "execution_count": 12,
   "metadata": {},
   "outputs": [
    {
     "data": {
      "text/plain": [
       "{'_index': 'sw',\n",
       " '_type': 'people',\n",
       " '_id': '1',\n",
       " '_version': 1,\n",
       " 'result': 'created',\n",
       " '_shards': {'total': 2, 'successful': 1, 'failed': 0},\n",
       " '_seq_no': 0,\n",
       " '_primary_term': 1}"
      ]
     },
     "execution_count": 12,
     "metadata": {},
     "output_type": "execute_result"
    }
   ],
   "source": [
    "es.index(index='sw', doc_type='people', id=1, body={\n",
    "    \"name\": \"Luke Skywalker\",\n",
    "    \"height\": \"172\",\n",
    "    \"mass\": \"77\",\n",
    "    \"hair_color\": \"blond\",\n",
    "    \"birth_year\": \"19BBY\",\n",
    "    \"gender\": \"male\",\n",
    "})"
   ]
  },
  {
   "cell_type": "code",
   "execution_count": 17,
   "metadata": {},
   "outputs": [
    {
     "name": "stdout",
     "output_type": "stream",
     "text": [
      "200\n",
      "200\n",
      "200\n",
      "200\n",
      "200\n",
      "200\n",
      "200\n",
      "200\n",
      "200\n",
      "200\n",
      "200\n",
      "200\n",
      "200\n",
      "200\n",
      "200\n",
      "200\n",
      "404\n",
      "18\n"
     ]
    }
   ],
   "source": [
    "#let's iterate over swapi people documents and index them\n",
    "import json\n",
    "# r = requests.get('http://localhost:9200') \n",
    "status_code = 200\n",
    "#print(r)\n",
    "i = 1\n",
    "while status_code == 200:\n",
    "    r = requests.get('http://swapi.co/api/people/'+ str(i))\n",
    "    status_code = r.status_code\n",
    "    print(status_code)\n",
    "    es.index(index='sw', doc_type='people', id=i, body=json.loads(r.content))\n",
    "    i=i+1\n",
    "    \n",
    "print(i)"
   ]
  },
  {
   "cell_type": "code",
   "execution_count": 18,
   "metadata": {},
   "outputs": [
    {
     "name": "stdout",
     "output_type": "stream",
     "text": [
      "200\n",
      "200\n",
      "200\n",
      "200\n",
      "200\n",
      "200\n",
      "200\n",
      "200\n",
      "200\n",
      "200\n",
      "200\n",
      "200\n",
      "200\n",
      "200\n",
      "200\n",
      "200\n",
      "200\n",
      "200\n",
      "200\n",
      "200\n",
      "200\n",
      "200\n",
      "200\n",
      "200\n",
      "200\n",
      "200\n",
      "200\n",
      "200\n",
      "200\n",
      "200\n",
      "200\n",
      "200\n",
      "200\n",
      "200\n",
      "200\n",
      "200\n",
      "200\n",
      "200\n",
      "200\n",
      "200\n",
      "200\n",
      "200\n",
      "200\n",
      "200\n",
      "200\n",
      "200\n",
      "200\n",
      "200\n",
      "200\n",
      "200\n",
      "200\n",
      "200\n",
      "200\n",
      "200\n",
      "200\n",
      "200\n",
      "200\n",
      "200\n",
      "200\n",
      "200\n",
      "200\n",
      "200\n",
      "200\n",
      "200\n",
      "200\n",
      "200\n",
      "200\n",
      "200\n",
      "200\n",
      "200\n",
      "200\n",
      "404\n",
      "90\n"
     ]
    }
   ],
   "source": [
    "#let's iterate over swapi people documents and index them\n",
    "import json\n",
    "# r = requests.get('http://localhost:9200') \n",
    "status_code = 200\n",
    "#print(r)\n",
    "i = 18\n",
    "while status_code == 200:\n",
    "    r = requests.get('http://swapi.co/api/people/'+ str(i))\n",
    "    status_code = r.status_code\n",
    "    print(status_code)\n",
    "    es.index(index='sw', doc_type='people', id=i, body=json.loads(r.content))\n",
    "    i=i+1\n",
    "    \n",
    "print(i)"
   ]
  },
  {
   "cell_type": "code",
   "execution_count": 19,
   "metadata": {},
   "outputs": [
    {
     "data": {
      "text/plain": [
       "{'_index': 'sw',\n",
       " '_type': 'people',\n",
       " '_id': '65',\n",
       " '_version': 1,\n",
       " '_seq_no': 82,\n",
       " '_primary_term': 1,\n",
       " 'found': True,\n",
       " '_source': {'name': 'Barriss Offee',\n",
       "  'height': '166',\n",
       "  'mass': '50',\n",
       "  'hair_color': 'black',\n",
       "  'skin_color': 'yellow',\n",
       "  'eye_color': 'blue',\n",
       "  'birth_year': '40BBY',\n",
       "  'gender': 'female',\n",
       "  'homeworld': 'https://swapi.co/api/planets/51/',\n",
       "  'films': ['https://swapi.co/api/films/5/'],\n",
       "  'species': ['https://swapi.co/api/species/29/'],\n",
       "  'vehicles': [],\n",
       "  'starships': [],\n",
       "  'created': '2014-12-20T16:46:40.440000Z',\n",
       "  'edited': '2014-12-20T21:17:50.457000Z',\n",
       "  'url': 'https://swapi.co/api/people/65/'}}"
      ]
     },
     "execution_count": 19,
     "metadata": {},
     "output_type": "execute_result"
    }
   ],
   "source": [
    "es.get(index='sw', doc_type='people', id=65)"
   ]
  },
  {
   "cell_type": "code",
   "execution_count": 26,
   "metadata": {},
   "outputs": [
    {
     "data": {
      "text/plain": [
       "{'took': 0,\n",
       " 'timed_out': False,\n",
       " '_shards': {'total': 1, 'successful': 1, 'skipped': 0, 'failed': 0},\n",
       " 'hits': {'total': {'value': 2, 'relation': 'eq'},\n",
       "  'max_score': 7.0187273,\n",
       "  'hits': [{'_index': 'sw',\n",
       "    '_type': 'people',\n",
       "    '_id': '4',\n",
       "    '_score': 7.0187273,\n",
       "    '_source': {'name': 'Darth Vader',\n",
       "     'height': '202',\n",
       "     'mass': '136',\n",
       "     'hair_color': 'none',\n",
       "     'skin_color': 'white',\n",
       "     'eye_color': 'yellow',\n",
       "     'birth_year': '41.9BBY',\n",
       "     'gender': 'male',\n",
       "     'homeworld': 'https://swapi.co/api/planets/1/',\n",
       "     'films': ['https://swapi.co/api/films/2/',\n",
       "      'https://swapi.co/api/films/6/',\n",
       "      'https://swapi.co/api/films/3/',\n",
       "      'https://swapi.co/api/films/1/'],\n",
       "     'species': ['https://swapi.co/api/species/1/'],\n",
       "     'vehicles': [],\n",
       "     'starships': ['https://swapi.co/api/starships/13/'],\n",
       "     'created': '2014-12-10T15:18:20.704000Z',\n",
       "     'edited': '2014-12-20T21:17:50.313000Z',\n",
       "     'url': 'https://swapi.co/api/people/4/'}},\n",
       "   {'_index': 'sw',\n",
       "    '_type': 'people',\n",
       "    '_id': '44',\n",
       "    '_score': 3.3435142,\n",
       "    '_source': {'name': 'Darth Maul',\n",
       "     'height': '175',\n",
       "     'mass': '80',\n",
       "     'hair_color': 'none',\n",
       "     'skin_color': 'red',\n",
       "     'eye_color': 'yellow',\n",
       "     'birth_year': '54BBY',\n",
       "     'gender': 'male',\n",
       "     'homeworld': 'https://swapi.co/api/planets/36/',\n",
       "     'films': ['https://swapi.co/api/films/4/'],\n",
       "     'species': ['https://swapi.co/api/species/22/'],\n",
       "     'vehicles': ['https://swapi.co/api/vehicles/42/'],\n",
       "     'starships': ['https://swapi.co/api/starships/41/'],\n",
       "     'created': '2014-12-19T18:00:41.929000Z',\n",
       "     'edited': '2014-12-20T21:17:50.403000Z',\n",
       "     'url': 'https://swapi.co/api/people/44/'}}]}}"
      ]
     },
     "execution_count": 26,
     "metadata": {},
     "output_type": "execute_result"
    }
   ],
   "source": [
    "#let's find darth vader\n",
    "es.search(index=\"sw\", body={\"query\": {\"match\" : { \"name\" : \"Darth Vader\" }}})"
   ]
  },
  {
   "cell_type": "code",
   "execution_count": 21,
   "metadata": {},
   "outputs": [
    {
     "data": {
      "text/plain": [
       "{'took': 3,\n",
       " 'timed_out': False,\n",
       " '_shards': {'total': 1, 'successful': 1, 'skipped': 0, 'failed': 0},\n",
       " 'hits': {'total': {'value': 2, 'relation': 'eq'},\n",
       "  'max_score': 1.0,\n",
       "  'hits': [{'_index': 'sw',\n",
       "    '_type': 'people',\n",
       "    '_id': '1',\n",
       "    '_score': 1.0,\n",
       "    '_source': {'name': 'Luke Skywalker',\n",
       "     'height': '172',\n",
       "     'mass': '77',\n",
       "     'hair_color': 'blond',\n",
       "     'skin_color': 'fair',\n",
       "     'eye_color': 'blue',\n",
       "     'birth_year': '19BBY',\n",
       "     'gender': 'male',\n",
       "     'homeworld': 'https://swapi.co/api/planets/1/',\n",
       "     'films': ['https://swapi.co/api/films/2/',\n",
       "      'https://swapi.co/api/films/6/',\n",
       "      'https://swapi.co/api/films/3/',\n",
       "      'https://swapi.co/api/films/1/',\n",
       "      'https://swapi.co/api/films/7/'],\n",
       "     'species': ['https://swapi.co/api/species/1/'],\n",
       "     'vehicles': ['https://swapi.co/api/vehicles/14/',\n",
       "      'https://swapi.co/api/vehicles/30/'],\n",
       "     'starships': ['https://swapi.co/api/starships/12/',\n",
       "      'https://swapi.co/api/starships/22/'],\n",
       "     'created': '2014-12-09T13:50:51.644000Z',\n",
       "     'edited': '2014-12-20T21:17:56.891000Z',\n",
       "     'url': 'https://swapi.co/api/people/1/'}},\n",
       "   {'_index': 'sw',\n",
       "    '_type': 'people',\n",
       "    '_id': '64',\n",
       "    '_score': 1.0,\n",
       "    '_source': {'name': 'Luminara Unduli',\n",
       "     'height': '170',\n",
       "     'mass': '56.2',\n",
       "     'hair_color': 'black',\n",
       "     'skin_color': 'yellow',\n",
       "     'eye_color': 'blue',\n",
       "     'birth_year': '58BBY',\n",
       "     'gender': 'female',\n",
       "     'homeworld': 'https://swapi.co/api/planets/51/',\n",
       "     'films': ['https://swapi.co/api/films/5/',\n",
       "      'https://swapi.co/api/films/6/'],\n",
       "     'species': ['https://swapi.co/api/species/29/'],\n",
       "     'vehicles': [],\n",
       "     'starships': [],\n",
       "     'created': '2014-12-20T16:45:53.668000Z',\n",
       "     'edited': '2014-12-20T21:17:50.455000Z',\n",
       "     'url': 'https://swapi.co/api/people/64/'}}]}}"
      ]
     },
     "execution_count": 21,
     "metadata": {},
     "output_type": "execute_result"
    }
   ],
   "source": [
    "#let's see if we find anyone with a name or surname starting with lu\n",
    "es.search(index=\"sw\", body={\"query\": {\"prefix\" : { \"name\" : \"lu\" }}})"
   ]
  },
  {
   "cell_type": "code",
   "execution_count": 33,
   "metadata": {},
   "outputs": [],
   "source": [
    "#let's try a fuzzy query\n",
    "q = es.search(index=\"sw\", body={\n",
    "        \"query\": {\n",
    "            \"more_like_this\" : {\n",
    "                \"fields\" : [\"name\"],\n",
    "                \"like\": \"Luminara\",\n",
    "                \"min_term_freq\" : 1,\n",
    "                \"max_query_terms\" : 5\n",
    "            }\n",
    "        }\n",
    "    }\n",
    ")"
   ]
  },
  {
   "cell_type": "code",
   "execution_count": 34,
   "metadata": {},
   "outputs": [
    {
     "data": {
      "text/plain": [
       "{'took': 0,\n",
       " 'timed_out': False,\n",
       " '_shards': {'total': 1, 'successful': 1, 'skipped': 0, 'failed': 0},\n",
       " 'hits': {'total': {'value': 0, 'relation': 'eq'},\n",
       "  'max_score': None,\n",
       "  'hits': []}}"
      ]
     },
     "execution_count": 34,
     "metadata": {},
     "output_type": "execute_result"
    }
   ],
   "source": [
    "q"
   ]
  },
  {
   "cell_type": "code",
   "execution_count": null,
   "metadata": {},
   "outputs": [],
   "source": []
  }
 ],
 "metadata": {
  "kernelspec": {
   "display_name": "Python 3",
   "language": "python",
   "name": "python3"
  },
  "language_info": {
   "codemirror_mode": {
    "name": "ipython",
    "version": 3
   },
   "file_extension": ".py",
   "mimetype": "text/x-python",
   "name": "python",
   "nbconvert_exporter": "python",
   "pygments_lexer": "ipython3",
   "version": "3.6.8"
  }
 },
 "nbformat": 4,
 "nbformat_minor": 2
}
