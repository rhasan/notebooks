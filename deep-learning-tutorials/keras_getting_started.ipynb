{
 "cells": [
  {
   "cell_type": "markdown",
   "metadata": {},
   "source": [
    "# Multilayer Perceptron (MLP) for multi-class softmax classification:"
   ]
  },
  {
   "cell_type": "code",
   "execution_count": 16,
   "metadata": {},
   "outputs": [
    {
     "name": "stdout",
     "output_type": "stream",
     "text": [
      "Epoch 1/20\n",
      "1000/1000 [==============================] - 0s 272us/step - loss: 2.3419 - acc: 0.1170\n",
      "Epoch 2/20\n",
      "1000/1000 [==============================] - 0s 14us/step - loss: 2.3364 - acc: 0.1130\n",
      "Epoch 3/20\n",
      "1000/1000 [==============================] - 0s 15us/step - loss: 2.3287 - acc: 0.0960\n",
      "Epoch 4/20\n",
      "1000/1000 [==============================] - 0s 15us/step - loss: 2.3260 - acc: 0.1070\n",
      "Epoch 5/20\n",
      "1000/1000 [==============================] - 0s 17us/step - loss: 2.3156 - acc: 0.1170\n",
      "Epoch 6/20\n",
      "1000/1000 [==============================] - 0s 16us/step - loss: 2.3127 - acc: 0.1060\n",
      "Epoch 7/20\n",
      "1000/1000 [==============================] - 0s 16us/step - loss: 2.3039 - acc: 0.1260\n",
      "Epoch 8/20\n",
      "1000/1000 [==============================] - 0s 16us/step - loss: 2.3021 - acc: 0.1060\n",
      "Epoch 9/20\n",
      "1000/1000 [==============================] - 0s 15us/step - loss: 2.2971 - acc: 0.1140\n",
      "Epoch 10/20\n",
      "1000/1000 [==============================] - 0s 15us/step - loss: 2.3063 - acc: 0.1100\n",
      "Epoch 11/20\n",
      "1000/1000 [==============================] - 0s 17us/step - loss: 2.3019 - acc: 0.1070\n",
      "Epoch 12/20\n",
      "1000/1000 [==============================] - 0s 14us/step - loss: 2.3013 - acc: 0.1040\n",
      "Epoch 13/20\n",
      "1000/1000 [==============================] - 0s 16us/step - loss: 2.2986 - acc: 0.1020\n",
      "Epoch 14/20\n",
      "1000/1000 [==============================] - 0s 16us/step - loss: 2.2924 - acc: 0.1160\n",
      "Epoch 15/20\n",
      "1000/1000 [==============================] - 0s 15us/step - loss: 2.3047 - acc: 0.1030\n",
      "Epoch 16/20\n",
      "1000/1000 [==============================] - 0s 15us/step - loss: 2.2980 - acc: 0.1240\n",
      "Epoch 17/20\n",
      "1000/1000 [==============================] - 0s 15us/step - loss: 2.3018 - acc: 0.1220\n",
      "Epoch 18/20\n",
      "1000/1000 [==============================] - 0s 14us/step - loss: 2.2990 - acc: 0.1030\n",
      "Epoch 19/20\n",
      "1000/1000 [==============================] - 0s 15us/step - loss: 2.2879 - acc: 0.1220\n",
      "Epoch 20/20\n",
      "1000/1000 [==============================] - 0s 15us/step - loss: 2.2950 - acc: 0.1200\n",
      "100/100 [==============================] - 0s 802us/step\n"
     ]
    }
   ],
   "source": [
    "import keras\n",
    "from keras.models import Sequential\n",
    "from keras.layers import Dense, Dropout, Activation\n",
    "from keras.optimizers import SGD\n",
    "\n",
    "# Generate dummy data\n",
    "import numpy as np\n",
    "x_train = np.random.random((1000, 20))\n",
    "y_train = keras.utils.to_categorical(np.random.randint(10, size=(1000, 1)), num_classes=10)\n",
    "x_test = np.random.random((100, 20))\n",
    "y_test = keras.utils.to_categorical(np.random.randint(10, size=(100, 1)), num_classes=10)\n",
    "\n",
    "model = Sequential()\n",
    "# Dense(64) is a fully-connected layer with 64 hidden units.\n",
    "# in the first layer, you must specify the expected input data shape:\n",
    "# here, 20-dimensional vectors.\n",
    "model.add(Dense(64, activation='relu', input_dim=20))\n",
    "model.add(Dropout(0.5))\n",
    "model.add(Dense(64, activation='relu'))\n",
    "model.add(Dropout(0.5))\n",
    "model.add(Dense(10, activation='softmax'))\n",
    "\n",
    "sgd = SGD(lr=0.01, decay=1e-6, momentum=0.9, nesterov=True)\n",
    "model.compile(loss='categorical_crossentropy',\n",
    "              optimizer=sgd,\n",
    "              metrics=['accuracy'])\n",
    "\n",
    "model.fit(x_train, y_train,\n",
    "          epochs=20,\n",
    "          batch_size=128)\n",
    "score = model.evaluate(x_test, y_test, batch_size=128)"
   ]
  },
  {
   "cell_type": "code",
   "execution_count": 17,
   "metadata": {},
   "outputs": [
    {
     "data": {
      "text/plain": [
       "[2.3076674938201904, 0.07999999821186066]"
      ]
     },
     "execution_count": 17,
     "metadata": {},
     "output_type": "execute_result"
    }
   ],
   "source": [
    "score"
   ]
  },
  {
   "cell_type": "code",
   "execution_count": 18,
   "metadata": {},
   "outputs": [
    {
     "data": {
      "text/plain": [
       "['loss', 'acc']"
      ]
     },
     "execution_count": 18,
     "metadata": {},
     "output_type": "execute_result"
    }
   ],
   "source": [
    "model.metrics_names"
   ]
  },
  {
   "cell_type": "code",
   "execution_count": null,
   "metadata": {},
   "outputs": [],
   "source": []
  },
  {
   "cell_type": "markdown",
   "metadata": {},
   "source": [
    "# MLP for binary classification:"
   ]
  },
  {
   "cell_type": "code",
   "execution_count": 19,
   "metadata": {},
   "outputs": [
    {
     "name": "stdout",
     "output_type": "stream",
     "text": [
      "Epoch 1/20\n",
      "1000/1000 [==============================] - 0s 343us/step - loss: 0.7066 - acc: 0.5030\n",
      "Epoch 2/20\n",
      "1000/1000 [==============================] - 0s 16us/step - loss: 0.7095 - acc: 0.4870\n",
      "Epoch 3/20\n",
      "1000/1000 [==============================] - 0s 15us/step - loss: 0.7019 - acc: 0.5240\n",
      "Epoch 4/20\n",
      "1000/1000 [==============================] - 0s 15us/step - loss: 0.7060 - acc: 0.4780\n",
      "Epoch 5/20\n",
      "1000/1000 [==============================] - 0s 16us/step - loss: 0.7011 - acc: 0.5320\n",
      "Epoch 6/20\n",
      "1000/1000 [==============================] - 0s 16us/step - loss: 0.6941 - acc: 0.5240\n",
      "Epoch 7/20\n",
      "1000/1000 [==============================] - 0s 16us/step - loss: 0.6969 - acc: 0.5080\n",
      "Epoch 8/20\n",
      "1000/1000 [==============================] - 0s 16us/step - loss: 0.6969 - acc: 0.5210\n",
      "Epoch 9/20\n",
      "1000/1000 [==============================] - 0s 16us/step - loss: 0.6934 - acc: 0.5270\n",
      "Epoch 10/20\n",
      "1000/1000 [==============================] - 0s 17us/step - loss: 0.6933 - acc: 0.5160\n",
      "Epoch 11/20\n",
      "1000/1000 [==============================] - 0s 16us/step - loss: 0.6897 - acc: 0.5270\n",
      "Epoch 12/20\n",
      "1000/1000 [==============================] - 0s 16us/step - loss: 0.6870 - acc: 0.5500\n",
      "Epoch 13/20\n",
      "1000/1000 [==============================] - 0s 15us/step - loss: 0.6906 - acc: 0.5300\n",
      "Epoch 14/20\n",
      "1000/1000 [==============================] - 0s 16us/step - loss: 0.6950 - acc: 0.5100\n",
      "Epoch 15/20\n",
      "1000/1000 [==============================] - 0s 17us/step - loss: 0.6914 - acc: 0.5340\n",
      "Epoch 16/20\n",
      "1000/1000 [==============================] - 0s 16us/step - loss: 0.6916 - acc: 0.5220\n",
      "Epoch 17/20\n",
      "1000/1000 [==============================] - 0s 16us/step - loss: 0.6911 - acc: 0.5260\n",
      "Epoch 18/20\n",
      "1000/1000 [==============================] - 0s 17us/step - loss: 0.6882 - acc: 0.5400\n",
      "Epoch 19/20\n",
      "1000/1000 [==============================] - 0s 15us/step - loss: 0.6869 - acc: 0.5480\n",
      "Epoch 20/20\n",
      "1000/1000 [==============================] - 0s 16us/step - loss: 0.6919 - acc: 0.5160\n",
      "100/100 [==============================] - 0s 932us/step\n"
     ]
    }
   ],
   "source": [
    "import numpy as np\n",
    "from keras.models import Sequential\n",
    "from keras.layers import Dense, Dropout\n",
    "\n",
    "# Generate dummy data\n",
    "x_train = np.random.random((1000, 20))\n",
    "y_train = np.random.randint(2, size=(1000, 1))\n",
    "x_test = np.random.random((100, 20))\n",
    "y_test = np.random.randint(2, size=(100, 1))\n",
    "\n",
    "model = Sequential()\n",
    "model.add(Dense(64, input_dim=20, activation='relu'))\n",
    "model.add(Dropout(0.5))\n",
    "model.add(Dense(64, activation='relu'))\n",
    "model.add(Dropout(0.5))\n",
    "model.add(Dense(1, activation='sigmoid'))\n",
    "\n",
    "model.compile(loss='binary_crossentropy',\n",
    "              optimizer='rmsprop',\n",
    "              metrics=['accuracy'])\n",
    "\n",
    "model.fit(x_train, y_train,\n",
    "          epochs=20,\n",
    "          batch_size=128)\n",
    "score = model.evaluate(x_test, y_test, batch_size=128)"
   ]
  },
  {
   "cell_type": "code",
   "execution_count": 20,
   "metadata": {},
   "outputs": [
    {
     "data": {
      "text/plain": [
       "[0.6969966292381287, 0.47999998927116394]"
      ]
     },
     "execution_count": 20,
     "metadata": {},
     "output_type": "execute_result"
    }
   ],
   "source": [
    "score"
   ]
  },
  {
   "cell_type": "code",
   "execution_count": 21,
   "metadata": {},
   "outputs": [
    {
     "data": {
      "text/plain": [
       "['loss', 'acc']"
      ]
     },
     "execution_count": 21,
     "metadata": {},
     "output_type": "execute_result"
    }
   ],
   "source": [
    "model.metrics_names"
   ]
  },
  {
   "cell_type": "code",
   "execution_count": null,
   "metadata": {},
   "outputs": [],
   "source": []
  }
 ],
 "metadata": {
  "kernelspec": {
   "display_name": "Python 3",
   "language": "python",
   "name": "python3"
  },
  "language_info": {
   "codemirror_mode": {
    "name": "ipython",
    "version": 3
   },
   "file_extension": ".py",
   "mimetype": "text/x-python",
   "name": "python",
   "nbconvert_exporter": "python",
   "pygments_lexer": "ipython3",
   "version": "3.6.8"
  }
 },
 "nbformat": 4,
 "nbformat_minor": 2
}
